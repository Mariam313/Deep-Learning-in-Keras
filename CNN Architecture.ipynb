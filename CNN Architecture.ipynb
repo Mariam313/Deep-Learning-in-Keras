{
 "cells": [
  {
   "cell_type": "markdown",
   "metadata": {},
   "source": [
    "**Simple Convolutional Neural Network**\n",
    "\n",
    "CNN architecture: Conv $\\rightarrow$ pool $\\rightarrow$ conv = pool ..$\\rightarrow$ Flatten $\\rightarrow$ Dropout $\\rightarrow$ Fully Connected $\\rightarrow$ Dropout $\\rightarrow$ Fully connected "
   ]
  },
  {
   "cell_type": "code",
   "execution_count": null,
   "metadata": {},
   "outputs": [],
   "source": [
    "from keras.models import Sequential\n",
    "from keras.layers import Conv2D, Maxpooling2D, Flatten, Dense, Dropout"
   ]
  },
  {
   "cell_type": "code",
   "execution_count": null,
   "metadata": {},
   "outputs": [],
   "source": [
    "model = Sequential()"
   ]
  },
  {
   "cell_type": "code",
   "execution_count": null,
   "metadata": {},
   "outputs": [],
   "source": [
    "input_shape = (128,128,3)"
   ]
  },
  {
   "cell_type": "code",
   "execution_count": null,
   "metadata": {},
   "outputs": [],
   "source": [
    "model.add(Conv2D(16, kernal_size=(2,2), strides=(1,1), activation='relu', input_shape=input_shape)) #padding = defult\n",
    "model.add(MaxPooling2D(pool_size=(2,2), strides=(2,2),))\n",
    "model.add(Conv2D(32, kernal_size(2,2), activation='relu'))\n",
    "model.add(MaxPooling2D(pool_size(2,2)))\n",
    "model.add(flatten())\n",
    "# can add dropout: model.add(Dropout(rate=0.5)) to dropout layers with 50% probability\n",
    "model.add(Dense(100, activation='relu'))\n",
    "# can add another dropout\n",
    "model.add(Dense(num_classes, activation='softmax'))"
   ]
  },
  {
   "cell_type": "code",
   "execution_count": null,
   "metadata": {},
   "outputs": [],
   "source": [
    "model.summary()"
   ]
  }
 ],
 "metadata": {
  "kernelspec": {
   "display_name": "Python 3",
   "language": "python",
   "name": "python3"
  },
  "language_info": {
   "codemirror_mode": {
    "name": "ipython",
    "version": 3
   },
   "file_extension": ".py",
   "mimetype": "text/x-python",
   "name": "python",
   "nbconvert_exporter": "python",
   "pygments_lexer": "ipython3",
   "version": "3.7.4"
  }
 },
 "nbformat": 4,
 "nbformat_minor": 2
}
